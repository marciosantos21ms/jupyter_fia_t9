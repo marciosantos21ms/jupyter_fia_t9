{
 "cells": [
  {
   "cell_type": "code",
   "execution_count": 160,
   "metadata": {},
   "outputs": [],
   "source": [
    "import pandas as pd\n",
    "import numpy as np\n",
    "from sklearn.model_selection import train_test_split\n",
    "from sklearn.tree import DecisionTreeRegressor\n",
    "from sklearn.metrics import mean_squared_error\n",
    "from sklearn.metrics import r2_score\n",
    "from sklearn.linear_model import LinearRegression\n",
    "from sklearn.tree import DecisionTreeRegressor"
   ]
  },
  {
   "cell_type": "code",
   "execution_count": 166,
   "metadata": {},
   "outputs": [],
   "source": [
    "pd.set_option('display.max_rows', 500)"
   ]
  },
  {
   "cell_type": "code",
   "execution_count": 131,
   "metadata": {},
   "outputs": [],
   "source": [
    "dados = pd.read_csv('BRAZIL_CITIES.csv', sep = ',')"
   ]
  },
  {
   "cell_type": "code",
   "execution_count": 132,
   "metadata": {},
   "outputs": [
    {
     "data": {
      "text/html": [
       "<div>\n",
       "<style scoped>\n",
       "    .dataframe tbody tr th:only-of-type {\n",
       "        vertical-align: middle;\n",
       "    }\n",
       "\n",
       "    .dataframe tbody tr th {\n",
       "        vertical-align: top;\n",
       "    }\n",
       "\n",
       "    .dataframe thead th {\n",
       "        text-align: right;\n",
       "    }\n",
       "</style>\n",
       "<table border=\"1\" class=\"dataframe\">\n",
       "  <thead>\n",
       "    <tr style=\"text-align: right;\">\n",
       "      <th></th>\n",
       "      <th>CITY</th>\n",
       "      <th>STATE</th>\n",
       "      <th>CAPITAL</th>\n",
       "      <th>IBGE_RES_POP</th>\n",
       "      <th>IBGE_RES_POP_BRAS</th>\n",
       "      <th>IBGE_RES_POP_ESTR</th>\n",
       "      <th>IBGE_DU</th>\n",
       "      <th>IBGE_DU_URBAN</th>\n",
       "      <th>IBGE_DU_RURAL</th>\n",
       "      <th>IBGE_POP</th>\n",
       "      <th>...</th>\n",
       "      <th>Pu_Bank</th>\n",
       "      <th>Pr_Assets</th>\n",
       "      <th>Pu_Assets</th>\n",
       "      <th>Cars</th>\n",
       "      <th>Motorcycles</th>\n",
       "      <th>Wheeled_tractor</th>\n",
       "      <th>UBER</th>\n",
       "      <th>MAC</th>\n",
       "      <th>WAL.MART</th>\n",
       "      <th>POST_OFFICES</th>\n",
       "    </tr>\n",
       "  </thead>\n",
       "  <tbody>\n",
       "    <tr>\n",
       "      <th>0</th>\n",
       "      <td>São Paulo</td>\n",
       "      <td>SP</td>\n",
       "      <td>1</td>\n",
       "      <td>11253503.0</td>\n",
       "      <td>11133776.0</td>\n",
       "      <td>119727.0</td>\n",
       "      <td>3576148.0</td>\n",
       "      <td>3548433.0</td>\n",
       "      <td>27715.0</td>\n",
       "      <td>10463636.0</td>\n",
       "      <td>...</td>\n",
       "      <td>8.0</td>\n",
       "      <td>1.947077e+13</td>\n",
       "      <td>2.893261e+12</td>\n",
       "      <td>5740995.0</td>\n",
       "      <td>1134570.0</td>\n",
       "      <td>3236.0</td>\n",
       "      <td>1.0</td>\n",
       "      <td>130.0</td>\n",
       "      <td>7.0</td>\n",
       "      <td>225.0</td>\n",
       "    </tr>\n",
       "    <tr>\n",
       "      <th>1</th>\n",
       "      <td>Osasco</td>\n",
       "      <td>SP</td>\n",
       "      <td>0</td>\n",
       "      <td>666740.0</td>\n",
       "      <td>664447.0</td>\n",
       "      <td>2293.0</td>\n",
       "      <td>202009.0</td>\n",
       "      <td>202009.0</td>\n",
       "      <td>NaN</td>\n",
       "      <td>616068.0</td>\n",
       "      <td>...</td>\n",
       "      <td>2.0</td>\n",
       "      <td>6.732330e+12</td>\n",
       "      <td>1.321699e+10</td>\n",
       "      <td>283641.0</td>\n",
       "      <td>73477.0</td>\n",
       "      <td>174.0</td>\n",
       "      <td>NaN</td>\n",
       "      <td>7.0</td>\n",
       "      <td>1.0</td>\n",
       "      <td>10.0</td>\n",
       "    </tr>\n",
       "    <tr>\n",
       "      <th>2</th>\n",
       "      <td>Rio De Janeiro</td>\n",
       "      <td>RJ</td>\n",
       "      <td>1</td>\n",
       "      <td>6320446.0</td>\n",
       "      <td>6264915.0</td>\n",
       "      <td>55531.0</td>\n",
       "      <td>2147235.0</td>\n",
       "      <td>2147235.0</td>\n",
       "      <td>NaN</td>\n",
       "      <td>5426838.0</td>\n",
       "      <td>...</td>\n",
       "      <td>5.0</td>\n",
       "      <td>2.283445e+12</td>\n",
       "      <td>9.738864e+11</td>\n",
       "      <td>2039930.0</td>\n",
       "      <td>363486.0</td>\n",
       "      <td>289.0</td>\n",
       "      <td>1.0</td>\n",
       "      <td>68.0</td>\n",
       "      <td>1.0</td>\n",
       "      <td>120.0</td>\n",
       "    </tr>\n",
       "    <tr>\n",
       "      <th>3</th>\n",
       "      <td>Brasília</td>\n",
       "      <td>DF</td>\n",
       "      <td>1</td>\n",
       "      <td>2570160.0</td>\n",
       "      <td>2564370.0</td>\n",
       "      <td>5790.0</td>\n",
       "      <td>774820.0</td>\n",
       "      <td>751558.0</td>\n",
       "      <td>23261.0</td>\n",
       "      <td>2450634.0</td>\n",
       "      <td>...</td>\n",
       "      <td>4.0</td>\n",
       "      <td>2.920933e+11</td>\n",
       "      <td>8.016164e+12</td>\n",
       "      <td>1288107.0</td>\n",
       "      <td>211392.0</td>\n",
       "      <td>594.0</td>\n",
       "      <td>1.0</td>\n",
       "      <td>28.0</td>\n",
       "      <td>1.0</td>\n",
       "      <td>60.0</td>\n",
       "    </tr>\n",
       "    <tr>\n",
       "      <th>4</th>\n",
       "      <td>Porto Alegre</td>\n",
       "      <td>RS</td>\n",
       "      <td>1</td>\n",
       "      <td>1409351.0</td>\n",
       "      <td>1403450.0</td>\n",
       "      <td>5901.0</td>\n",
       "      <td>508503.0</td>\n",
       "      <td>508503.0</td>\n",
       "      <td>NaN</td>\n",
       "      <td>1339712.0</td>\n",
       "      <td>...</td>\n",
       "      <td>3.0</td>\n",
       "      <td>2.709619e+11</td>\n",
       "      <td>4.026997e+11</td>\n",
       "      <td>608777.0</td>\n",
       "      <td>106829.0</td>\n",
       "      <td>1383.0</td>\n",
       "      <td>1.0</td>\n",
       "      <td>19.0</td>\n",
       "      <td>12.0</td>\n",
       "      <td>53.0</td>\n",
       "    </tr>\n",
       "  </tbody>\n",
       "</table>\n",
       "<p>5 rows × 81 columns</p>\n",
       "</div>"
      ],
      "text/plain": [
       "             CITY STATE  CAPITAL  IBGE_RES_POP  IBGE_RES_POP_BRAS  \\\n",
       "0       São Paulo    SP        1    11253503.0         11133776.0   \n",
       "1          Osasco    SP        0      666740.0           664447.0   \n",
       "2  Rio De Janeiro    RJ        1     6320446.0          6264915.0   \n",
       "3        Brasília    DF        1     2570160.0          2564370.0   \n",
       "4    Porto Alegre    RS        1     1409351.0          1403450.0   \n",
       "\n",
       "   IBGE_RES_POP_ESTR    IBGE_DU  IBGE_DU_URBAN  IBGE_DU_RURAL    IBGE_POP  \\\n",
       "0           119727.0  3576148.0      3548433.0        27715.0  10463636.0   \n",
       "1             2293.0   202009.0       202009.0            NaN    616068.0   \n",
       "2            55531.0  2147235.0      2147235.0            NaN   5426838.0   \n",
       "3             5790.0   774820.0       751558.0        23261.0   2450634.0   \n",
       "4             5901.0   508503.0       508503.0            NaN   1339712.0   \n",
       "\n",
       "       ...       Pu_Bank     Pr_Assets     Pu_Assets       Cars  Motorcycles  \\\n",
       "0      ...           8.0  1.947077e+13  2.893261e+12  5740995.0    1134570.0   \n",
       "1      ...           2.0  6.732330e+12  1.321699e+10   283641.0      73477.0   \n",
       "2      ...           5.0  2.283445e+12  9.738864e+11  2039930.0     363486.0   \n",
       "3      ...           4.0  2.920933e+11  8.016164e+12  1288107.0     211392.0   \n",
       "4      ...           3.0  2.709619e+11  4.026997e+11   608777.0     106829.0   \n",
       "\n",
       "   Wheeled_tractor  UBER    MAC  WAL.MART  POST_OFFICES  \n",
       "0           3236.0   1.0  130.0       7.0         225.0  \n",
       "1            174.0   NaN    7.0       1.0          10.0  \n",
       "2            289.0   1.0   68.0       1.0         120.0  \n",
       "3            594.0   1.0   28.0       1.0          60.0  \n",
       "4           1383.0   1.0   19.0      12.0          53.0  \n",
       "\n",
       "[5 rows x 81 columns]"
      ]
     },
     "execution_count": 132,
     "metadata": {},
     "output_type": "execute_result"
    }
   ],
   "source": [
    "dados.head()"
   ]
  },
  {
   "cell_type": "code",
   "execution_count": 133,
   "metadata": {},
   "outputs": [],
   "source": [
    "del dados['CATEGORIA_TUR']\n",
    "del dados['RURAL_URBAN']              \n",
    "del dados['GVA_MAIN'] \n",
    "del dados['REGIAO_TUR']\n",
    "del dados['CITY']"
   ]
  },
  {
   "cell_type": "code",
   "execution_count": 134,
   "metadata": {},
   "outputs": [],
   "source": [
    "colunas = dados.columns"
   ]
  },
  {
   "cell_type": "code",
   "execution_count": 135,
   "metadata": {},
   "outputs": [],
   "source": [
    "for i in colunas:\n",
    "    missing = sum(dados[i].isnull())\n",
    "\n",
    "    if missing != 0:\n",
    "        mediana = dados[i].median()\n",
    "        dados.loc[dados[i].isnull(), i] = mediana"
   ]
  },
  {
   "cell_type": "code",
   "execution_count": 136,
   "metadata": {},
   "outputs": [
    {
     "name": "stdout",
     "output_type": "stream",
     "text": [
      "STATE   :    0\n",
      "CAPITAL   :    0\n",
      "IBGE_RES_POP   :    0\n",
      "IBGE_RES_POP_BRAS   :    0\n",
      "IBGE_RES_POP_ESTR   :    0\n",
      "IBGE_DU   :    0\n",
      "IBGE_DU_URBAN   :    0\n",
      "IBGE_DU_RURAL   :    0\n",
      "IBGE_POP   :    0\n",
      "IBGE_1   :    0\n",
      "IBGE_1.4   :    0\n",
      "IBGE_5.9   :    0\n",
      "IBGE_10.14   :    0\n",
      "IBGE_15.59   :    0\n",
      "IBGE_60.   :    0\n",
      "IBGE_PLANTED_AREA   :    0\n",
      "IBGE_CROP_PRODUCTION_.   :    0\n",
      "IDHM.Ranking.2010   :    0\n",
      "IDHM   :    0\n",
      "IDHM_Renda   :    0\n",
      "IDHM_Longevidade   :    0\n",
      "IDHM_Educacao   :    0\n",
      "LONG   :    0\n",
      "LAT   :    0\n",
      "ALT   :    0\n",
      "PAY_TV   :    0\n",
      "FIXED_PHONES   :    0\n",
      "AREA   :    0\n",
      "ESTIMATED_POP   :    0\n",
      "GVA_AGROPEC   :    0\n",
      "GVA_INDUSTRY   :    0\n",
      "GVA_SERVICES   :    0\n",
      "GVA_PUBLIC   :    0\n",
      "GVA_TOTAL   :    0\n",
      "TAXES   :    0\n",
      "GDP   :    0\n",
      "POP_GDP   :    0\n",
      "GDP_CAPITA   :    0\n",
      "MUN_EXPENDIT   :    0\n",
      "COMP_TOT   :    0\n",
      "COMP_A   :    0\n",
      "COMP_B   :    0\n",
      "COMP_C   :    0\n",
      "COMP_D   :    0\n",
      "COMP_E   :    0\n",
      "COMP_F   :    0\n",
      "COMP_G   :    0\n",
      "COMP_H   :    0\n",
      "COMP_I   :    0\n",
      "COMP_J   :    0\n",
      "COMP_K   :    0\n",
      "COMP_L   :    0\n",
      "COMP_M   :    0\n",
      "COMP_N   :    0\n",
      "COMP_O   :    0\n",
      "COMP_P   :    0\n",
      "COMP_Q   :    0\n",
      "COMP_R   :    0\n",
      "COMP_S   :    0\n",
      "COMP_T   :    0\n",
      "COMP_U   :    0\n",
      "HOTELS   :    0\n",
      "BEDS   :    0\n",
      "Pr_Agencies   :    0\n",
      "Pu_Agencies   :    0\n",
      "Pr_Bank   :    0\n",
      "Pu_Bank   :    0\n",
      "Pr_Assets   :    0\n",
      "Pu_Assets   :    0\n",
      "Cars   :    0\n",
      "Motorcycles   :    0\n",
      "Wheeled_tractor   :    0\n",
      "UBER   :    0\n",
      "MAC   :    0\n",
      "WAL.MART   :    0\n",
      "POST_OFFICES   :    0\n"
     ]
    }
   ],
   "source": [
    "for i in dados.columns:\n",
    "    \n",
    "    missing = sum(dados[i].isnull())\n",
    "    print(i + '   :    ' + str(missing))"
   ]
  },
  {
   "cell_type": "code",
   "execution_count": 138,
   "metadata": {},
   "outputs": [
    {
     "data": {
      "text/plain": [
       "0.99228521735369524"
      ]
     },
     "execution_count": 138,
     "metadata": {},
     "output_type": "execute_result"
    }
   ],
   "source": [
    "dados['Cars'].corr(dados['FIXED_PHONES'])"
   ]
  },
  {
   "cell_type": "code",
   "execution_count": 165,
   "metadata": {},
   "outputs": [
    {
     "data": {
      "text/plain": [
       "0.95642851461681644"
      ]
     },
     "execution_count": 165,
     "metadata": {},
     "output_type": "execute_result"
    }
   ],
   "source": [
    "dados['Cars'].corr(dados['GDP'])"
   ]
  },
  {
   "cell_type": "code",
   "execution_count": 188,
   "metadata": {},
   "outputs": [
    {
     "data": {
      "text/plain": [
       "0.97422060141959799"
      ]
     },
     "execution_count": 188,
     "metadata": {},
     "output_type": "execute_result"
    }
   ],
   "source": [
    "dados['Cars'].corr(dados['PAY_TV'])"
   ]
  },
  {
   "cell_type": "code",
   "execution_count": 173,
   "metadata": {},
   "outputs": [],
   "source": [
    "y = dados.Cars"
   ]
  },
  {
   "cell_type": "code",
   "execution_count": 174,
   "metadata": {},
   "outputs": [],
   "source": [
    "df = dados"
   ]
  },
  {
   "cell_type": "code",
   "execution_count": 182,
   "metadata": {},
   "outputs": [],
   "source": [
    "x = pd.concat([df[['GDP', 'POP_GDP', 'GDP_CAPITA', 'FIXED_PHONES', 'PAY_TV']], pd.get_dummies(df.STATE)], axis=1)"
   ]
  },
  {
   "cell_type": "code",
   "execution_count": 183,
   "metadata": {},
   "outputs": [],
   "source": [
    "x_train, x_test, y_train, y_test = train_test_split(x, y, test_size=0.3, random_state=42)"
   ]
  },
  {
   "cell_type": "code",
   "execution_count": 184,
   "metadata": {},
   "outputs": [],
   "source": [
    "lr = LinearRegression()"
   ]
  },
  {
   "cell_type": "code",
   "execution_count": 185,
   "metadata": {},
   "outputs": [
    {
     "data": {
      "text/plain": [
       "LinearRegression(copy_X=True, fit_intercept=True, n_jobs=None,\n",
       "         normalize=False)"
      ]
     },
     "execution_count": 185,
     "metadata": {},
     "output_type": "execute_result"
    }
   ],
   "source": [
    "lr.fit(x_train, y_train)"
   ]
  },
  {
   "cell_type": "code",
   "execution_count": 186,
   "metadata": {},
   "outputs": [],
   "source": [
    "predictions = lr.predict(x_test)"
   ]
  },
  {
   "cell_type": "code",
   "execution_count": 187,
   "metadata": {},
   "outputs": [
    {
     "name": "stdout",
     "output_type": "stream",
     "text": [
      "MSE: 46799925.8642\n",
      "R2: 0.9519\n"
     ]
    }
   ],
   "source": [
    "mse = mean_squared_error(y_test, predictions)\n",
    "print(\"MSE: %.4f\" % mse)\n",
    "r2 = r2_score(y_test, predictions)\n",
    "print(\"R2: %.4f\" % r2)"
   ]
  },
  {
   "cell_type": "code",
   "execution_count": null,
   "metadata": {},
   "outputs": [],
   "source": []
  }
 ],
 "metadata": {
  "kernelspec": {
   "display_name": "Python 3",
   "language": "python",
   "name": "python3"
  },
  "language_info": {
   "codemirror_mode": {
    "name": "ipython",
    "version": 3
   },
   "file_extension": ".py",
   "mimetype": "text/x-python",
   "name": "python",
   "nbconvert_exporter": "python",
   "pygments_lexer": "ipython3",
   "version": "3.6.3"
  }
 },
 "nbformat": 4,
 "nbformat_minor": 2
}
